{
 "cells": [
  {
   "cell_type": "markdown",
   "metadata": {},
   "source": [
    "# Übung 4\n",
    "\n",
    "**Gruppenname:**\n",
    "\n",
    "*Name Ihrer Gruppe*\n",
    "\n",
    "Gehen Sie wie folgt vor:\n",
    "\n",
    "1. Bitte benennen Sie jetzt dieses Jupyter Notebook um (z.B. über `File -> Rename`):\n",
    "\n",
    "   Namensschema: `Gruppenname-X`. Ersetzen Sie \"X\" mit der oben angegebenen Nummer der Übung.\n",
    "\n",
    "   - Beispiel 1: Team REZA bearbeitet Übung 2. Das Notebook heißt: REZA-2.\n",
    "   - Beispiel 2: Sie sind keinem Team zugeordnet (nicht empfehlenswert) und bearbeiten Übung 2: Ihr Notebook heißt: Nachname-2.\n",
    "\n",
    "\n",
    "2. Tragen Sie Ihren Gruppennamen auch ganz oben bei \"Name Ihrer Gruppe\" ein.\n",
    "\n",
    "3. Bearbeiten Sie dann dieses Notebook. Vergessen Sie dabei nicht, das Jupyter Notebook regelmäßig zu speichern (z.B. über `Strg + S` oder über `File -> Save and Checkpoint`)."
   ]
  },
  {
   "cell_type": "markdown",
   "metadata": {},
   "source": [
    "### 4.1 Regularisierung mit Weight Decay"
   ]
  },
  {
   "cell_type": "markdown",
   "metadata": {},
   "source": [
    "*Weight Decay* ist eine klassische Regularisierungsmethode, die Ihnen in unterschiedlichen Formen ganz häufig in Machine Learning Projekten begegnen wird. In dieser Übung werden Sie *Weight Decay Regularisierung* für Regression implementieren und testen."
   ]
  },
  {
   "cell_type": "code",
   "execution_count": null,
   "outputs": [],
   "source": [
    "%matplotlib inline\n",
    "import numpy as np\n",
    "from matplotlib import pyplot as plt\n",
    "from numpy.polynomial import Polynomial\n",
    "\n",
    "\n",
    "def get_target_function():\n",
    "    return Polynomial((1, 2, -1, -2))\n",
    "\n",
    "\n",
    "def get_data(sigma=0, N=5):\n",
    "    np.random.seed(3)\n",
    "    p = Polynomial((1, 2, -1, -2))\n",
    "    x = np.sort(np.random.random_sample(size=N) * 2 - 1)\n",
    "    noise = np.random.standard_normal(len(x))\n",
    "    return x, p(x) + noise * sigma\n",
    "\n",
    "\n",
    "x, y = get_data(N=6, sigma=.2)"
   ],
   "metadata": {
    "collapsed": false
   }
  },
  {
   "cell_type": "markdown",
   "source": [
    "**Ihre Aufgaben**\n",
    "\n",
    "(1) Nehmen Sie die Folien der Vorlesung zur Hand und schlagen Sie nach, wie lineare Regression mit Weight Decay definiert ist. Konkret: Schlagen Sie nach, wie die Lösung $w_\\text{reg}$ der linearen Regression mit Weight Decay aussieht."
   ],
   "metadata": {
    "collapsed": false
   }
  },
  {
   "cell_type": "markdown",
   "metadata": {},
   "source": [
    "(2) Implementieren Sie eine Funktion `lin_reg_regularized`, die die Features $x$, die Labels $y$ sowie den Regularisierungsparameter $\\lambda$ entgegennimmt und den Gewichtsvektor der finalen Hypothese $w_\\text{reg}$ zurückgibt. [Dieser Befehl](https://docs.scipy.org/doc/numpy/reference/generated/numpy.identity.html) kann Ihnen bei der Implementierung helfen."
   ]
  },
  {
   "cell_type": "markdown",
   "metadata": {},
   "source": [
    "(3) Kopieren Sie Ihre Funktionen `get_final_g` und `phi4` aus Ihren vorherigen Übungen in dieses Jupyter Notebook."
   ]
  },
  {
   "cell_type": "markdown",
   "metadata": {},
   "source": [
    "(4) Wenden Sie die nichtlineare Feature-Transformation `phi4` an, führen Sie lineare Regression mit Weight Decay aus ($\\lambda = 0.1$), und ermitteln Sie $w_\\text{reg}$."
   ]
  },
  {
   "cell_type": "markdown",
   "metadata": {},
   "source": [
    "(5) Visualisieren Sie Ihre finale Hypothese $w_\\text{reg}$ (nutzen Sie `get_final_g`) sowie die Target Function (nutzen Sie `get_target_function`) in einem Plot mit unterschiedlichen Farben im Interval $x\\in[-1, 1]$. Was fällt Ihnen auf?"
   ]
  },
  {
   "cell_type": "markdown",
   "metadata": {},
   "source": [
    "(6) Erstellen Sie denselben Plot wie in Schritt (5), nur fügen Sie dieses Mal noch eine weitere finale Hypothese hinzu, nämlich diejenige, die Sie erhalten, wenn Sie $\\lambda=0$ setzen. Das Ergebnis für $\\lambda=0$ entspricht der unregularisierten Lösung, also der Lösung, die Sie mit klassischer linearer Regression ohne Weight Decay erhalten. Welche der Hypothesen approximiert die Target Function besser?"
   ]
  },
  {
   "cell_type": "markdown",
   "metadata": {},
   "source": [
    "(7) Erstellen Sie eine **interaktive Visualisierung** mit einem Slider, mit dem Sie den Wert $\\lambda$ einstellen können und die automatisch einen Plot mit der entsprechenden regularisierte Lösung zeigt, die dem Wert $\\lambda$ entspricht. \n",
    "1. Kommentieren Sie dazu den unteren Code ein und vervollständigen Sie die Funktion `showPlot`. Innerhalb der Funktion steht die Variable `lamb` zur Verfügung, die den durch den Slider eingestellten Wert von $\\lambda$ enthält. \n",
    "2. Führen Sie in der Funktion `showPlot` regularisierte Regression mit $\\lambda$ durch. Visualisieren Sie in der Funktion sowohl die Target Function als auch die regularisierte Lösung. [Stellen Sie sicher](https://matplotlib.org/api/_as_gen/matplotlib.pyplot.ylim.html), dass der gezeigte y-Achsenabschnitt zwischen -1 und 2 liegt.\n",
    "3. Führen Sie die entsprechende Code-Zelle aus und schieben den Slider hin und her. Beobachten Sie, wie sich die Kurven verändern. Beschreiben Sie qualitativ, wie sich die regularisierte Lösung ändert, wenn der Wert für $\\lambda$ erhöht wird."
   ]
  },
  {
   "cell_type": "code",
   "execution_count": null,
   "outputs": [],
   "source": [
    "# Folgender Code ist für Teilaufgabe (7).\n",
    "# Bitte kommentieren Sie folgenden Code für Teilaufgabe (7) ein und vervollständigen Sie ihn.\n",
    "\n",
    "# from ipywidgets import interact\n",
    "# import ipywidgets as widgets\n",
    "# @interact(lamb=widgets.FloatSlider(min=0,max=1.5,step=0.1,value=0))\n",
    "# def showPlot(lamb):\n",
    "    # 1. perform regularized linear regression with nonlinear feature transform\n",
    "    # 2. Visualize final hypothesis\n",
    "    # 3. Visualize target function\n",
    "    # 4. Make sure that y-axis shows region between -1 and 2"
   ],
   "metadata": {
    "collapsed": false
   }
  },
  {
   "cell_type": "markdown",
   "metadata": {},
   "source": [
    "(8) Schreiben Sie eine Funktion, die den Fehler $E_\\text{out}$ im Interval $x\\in[-1, 1]$ ermittelt. Sei $y(x)$ der Wert der Target Function an der Stelle $x$ und sei $g_\\lambda(x)$ der Wert Ihrer finalen Hypothese an der Stelle $x$ für regularisierte Regression mit dem Regularisierungsparameter $\\lambda$. Dann sei der Out-of-Sample Fehler $E_\\text{out}(\\lambda)$ im Interval $x\\in[-1, 1]$ definiert als die mittlere quadratische Abweichung zwischen $g_\\lambda$ und $y$ in diesem Interval, \n",
    "$$E_\\text{out}(\\lambda) = \\frac{1}{K}\\sum_k (g_\\lambda(x_k) - y(x_k))^2,$$ wobei wir hier $K=50$ Stützstellen $x_k$ wählen, die das Interval $[-1, 1]$ gleichmäßig in [äquidistanten Abständen abtasten](https://docs.scipy.org/doc/numpy/reference/generated/numpy.linspace.html). Hinweis: Sie können sich an Ihrem Code aus Übung 3, Aufgabe 3.2, Schritt 5 bedienen, sollten Sie diese Teilaufgabe bearbeitet haben."
   ]
  },
  {
   "cell_type": "markdown",
   "metadata": {},
   "source": [
    "(9) Unterteilen Sie das Intervall $\\left[0, 10^{-3}\\right]$ äquidistant in 20 Werte für $\\lambda$ und ermitteln Sie $E_\\text{out}(\\lambda)$ für diese Werte. Visualisieren Sie $E_\\text{out}(\\lambda)$ als Funktion von $\\lambda$ in einem Plot. Was fällt Ihnen auf?\n",
    "\n",
    "**Hinweise**\n",
    "* Für eine bessere Darstellung des Phänomens [wählen Sie bitte eine logarithmische Darstellung des Wertebereichs](https://matplotlib.org/stable/api/_as_gen/matplotlib.pyplot.yscale.html) von $E_\\text{out}$.\n",
    "* Geben Sie sich zusätzlich die Werte von $E_\\text{out}$ aus, die für sehr kleine $\\lambda$ Werte erreicht werden."
   ]
  }
 ],
 "metadata": {
  "hide_input": false,
  "kernelspec": {
   "display_name": "Python 3",
   "language": "python",
   "name": "python3"
  },
  "language_info": {
   "codemirror_mode": {
    "name": "ipython",
    "version": 3
   },
   "file_extension": ".py",
   "mimetype": "text/x-python",
   "name": "python",
   "nbconvert_exporter": "python",
   "pygments_lexer": "ipython3",
   "version": "3.6.9"
  }
 },
 "nbformat": 4,
 "nbformat_minor": 2
}
